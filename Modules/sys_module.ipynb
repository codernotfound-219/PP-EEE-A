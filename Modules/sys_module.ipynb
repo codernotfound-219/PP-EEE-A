{
 "cells": [
  {
   "cell_type": "code",
   "execution_count": 1,
   "id": "7da2a55f-4661-4306-abdf-097208fee797",
   "metadata": {},
   "outputs": [],
   "source": [
    "import sys"
   ]
  },
  {
   "cell_type": "code",
   "execution_count": 2,
   "id": "f4201f92-0bcf-4dfd-a78f-0c5b44ec0947",
   "metadata": {},
   "outputs": [
    {
     "name": "stdout",
     "output_type": "stream",
     "text": [
      "['/Users/aswatt/miniforge3/lib/python3.12/site-packages/ipykernel_launcher.py', '-f', '/Users/aswatt/Library/Jupyter/runtime/kernel-ceb8bedc-11d9-4573-82ee-b80968ef607a.json']\n"
     ]
    }
   ],
   "source": [
    "print(sys.argv)   # Run time args passed to the script"
   ]
  },
  {
   "cell_type": "code",
   "execution_count": 3,
   "id": "5976d9e6-bd06-459d-afc1-6717bc63ed72",
   "metadata": {},
   "outputs": [
    {
     "name": "stdout",
     "output_type": "stream",
     "text": [
      "Hello, world\n"
     ]
    },
    {
     "data": {
      "text/plain": [
       "13"
      ]
     },
     "execution_count": 3,
     "metadata": {},
     "output_type": "execute_result"
    }
   ],
   "source": [
    "sys.stdout.write(\"Hello, world\\n\")         # Also returns the length of the string"
   ]
  },
  {
   "cell_type": "code",
   "execution_count": 4,
   "id": "a37a8b70-1bd2-4693-8d01-10ebb3da7b3c",
   "metadata": {},
   "outputs": [
    {
     "data": {
      "text/plain": [
       "'3.12.6 | packaged by conda-forge | (main, Sep 22 2024, 14:07:06) [Clang 17.0.6 ]'"
      ]
     },
     "execution_count": 4,
     "metadata": {},
     "output_type": "execute_result"
    }
   ],
   "source": [
    "sys.version         # python version"
   ]
  },
  {
   "cell_type": "code",
   "execution_count": 5,
   "id": "59194179-d5af-45ea-b3c3-ef1528e8a1ab",
   "metadata": {},
   "outputs": [
    {
     "data": {
      "text/plain": [
       "['/Users/aswatt/miniforge3/lib/python312.zip',\n",
       " '/Users/aswatt/miniforge3/lib/python3.12',\n",
       " '/Users/aswatt/miniforge3/lib/python3.12/lib-dynload',\n",
       " '',\n",
       " '/Users/aswatt/miniforge3/lib/python3.12/site-packages']"
      ]
     },
     "execution_count": 5,
     "metadata": {},
     "output_type": "execute_result"
    }
   ],
   "source": [
    "sys.path           # site-packages location"
   ]
  },
  {
   "cell_type": "code",
   "execution_count": 6,
   "id": "2387b147-7bc0-484d-a944-db1387b3a0eb",
   "metadata": {},
   "outputs": [
    {
     "data": {
      "text/plain": [
       "'darwin'"
      ]
     },
     "execution_count": 6,
     "metadata": {},
     "output_type": "execute_result"
    }
   ],
   "source": [
    "sys.platform"
   ]
  }
 ],
 "metadata": {
  "kernelspec": {
   "display_name": "Python 3 (ipykernel)",
   "language": "python",
   "name": "python3"
  },
  "language_info": {
   "codemirror_mode": {
    "name": "ipython",
    "version": 3
   },
   "file_extension": ".py",
   "mimetype": "text/x-python",
   "name": "python",
   "nbconvert_exporter": "python",
   "pygments_lexer": "ipython3",
   "version": "3.12.6"
  }
 },
 "nbformat": 4,
 "nbformat_minor": 5
}

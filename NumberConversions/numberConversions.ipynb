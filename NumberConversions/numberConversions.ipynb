{
 "cells": [
  {
   "cell_type": "markdown",
   "id": "4698c28e-0ac7-419a-92c4-2701aa8c7c7e",
   "metadata": {},
   "source": [
    "## DECIMAL TO BINARY"
   ]
  },
  {
   "cell_type": "code",
   "execution_count": 4,
   "id": "51f855d6-cb3d-4828-bac3-c83c114bcd1c",
   "metadata": {},
   "outputs": [
    {
     "name": "stdin",
     "output_type": "stream",
     "text": [
      "Decimal:  12\n"
     ]
    },
    {
     "name": "stdout",
     "output_type": "stream",
     "text": [
      "1100\n"
     ]
    }
   ],
   "source": [
    "num = int(input(\"Decimal: \"))\n",
    "bin_val = 0\n",
    "place = 1\n",
    "\n",
    "while num != 0:\n",
    "    ld = num%2\n",
    "    bin_val += ld * place\n",
    "    place *= 10\n",
    "    num //= 2\n",
    "\n",
    "print(bin_val)"
   ]
  },
  {
   "cell_type": "markdown",
   "id": "5a9af15b-c84d-4cea-a22f-4af72d31c6b5",
   "metadata": {},
   "source": [
    "## BINARY TO DECIMAL"
   ]
  },
  {
   "cell_type": "code",
   "execution_count": 7,
   "id": "4c7caaaa-bb63-4ad4-bf46-7c47d916e5f7",
   "metadata": {},
   "outputs": [
    {
     "name": "stdin",
     "output_type": "stream",
     "text": [
      "Binary:  1100\n"
     ]
    },
    {
     "name": "stdout",
     "output_type": "stream",
     "text": [
      "12\n"
     ]
    }
   ],
   "source": [
    "num = int(input(\"Binary: \"))\n",
    "dec_val = 0\n",
    "place = 1\n",
    "\n",
    "while num != 0:\n",
    "    ld = num%10\n",
    "    dec_val += ld * place\n",
    "    place *= 2\n",
    "    num //=10\n",
    "\n",
    "print(dec_val)"
   ]
  },
  {
   "cell_type": "markdown",
   "id": "e56e0781-2a71-4ee6-a8e5-8115b0956446",
   "metadata": {},
   "source": [
    "## OCTAL TO BINARY"
   ]
  },
  {
   "cell_type": "markdown",
   "id": "086c0878-e89e-4d60-81a6-c20c0fb528fc",
   "metadata": {},
   "source": [
    "STEPS: convert octal to dec, and then dec to bin"
   ]
  },
  {
   "cell_type": "code",
   "execution_count": 18,
   "id": "fccd544d-5df8-4226-8bf1-4510680d833c",
   "metadata": {},
   "outputs": [
    {
     "name": "stdin",
     "output_type": "stream",
     "text": [
      "Octal:  761\n"
     ]
    },
    {
     "name": "stdout",
     "output_type": "stream",
     "text": [
      "dec:  497\n",
      "bin:  111110001\n"
     ]
    }
   ],
   "source": [
    "num = int(input(\"Octal: \"))\n",
    "dec_val = 0\n",
    "place = 1\n",
    "\n",
    "while num != 0:\n",
    "    ld = num%10\n",
    "    dec_val += ld * place\n",
    "    place *= 8\n",
    "    num //= 10\n",
    "\n",
    "print(\"dec: \", dec_val)\n",
    "\n",
    "bin_val = 0\n",
    "place = 1\n",
    "\n",
    "while dec_val != 0:\n",
    "    ld = dec_val%2\n",
    "    bin_val += ld * place\n",
    "    place *= 10\n",
    "    dec_val //= 2\n",
    "\n",
    "print(\"bin: \", bin_val)"
   ]
  },
  {
   "cell_type": "markdown",
   "id": "e5ec0ba4-231a-4aa4-9975-3c2622ad28ef",
   "metadata": {},
   "source": [
    "## BINARY TO OCTAL"
   ]
  },
  {
   "cell_type": "code",
   "execution_count": 23,
   "id": "fc5e587e-2a68-4173-be63-2921cb5b81f1",
   "metadata": {},
   "outputs": [
    {
     "name": "stdin",
     "output_type": "stream",
     "text": [
      "Binary:  111110001\n"
     ]
    },
    {
     "name": "stdout",
     "output_type": "stream",
     "text": [
      "dec:  497\n",
      "oct:  761\n"
     ]
    }
   ],
   "source": [
    "num = int(input(\"Binary: \"))\n",
    "dec_val = 0\n",
    "place = 1\n",
    "\n",
    "while num != 0:\n",
    "    ld = num%10\n",
    "    dec_val += ld * place\n",
    "    place *= 2\n",
    "    num //=10\n",
    "\n",
    "print(\"dec: \", dec_val)\n",
    "\n",
    "oct_val = 0\n",
    "place = 1\n",
    "\n",
    "while dec_val != 0:\n",
    "    ld = dec_val%8\n",
    "    oct_val += ld*place\n",
    "    place *= 10\n",
    "    dec_val //= 8\n",
    "\n",
    "print(\"oct: \", oct_val)"
   ]
  },
  {
   "cell_type": "markdown",
   "id": "96259c1c-b5b2-4b39-84bd-c092cf66390e",
   "metadata": {},
   "source": [
    "## HEXA TO BIN"
   ]
  },
  {
   "cell_type": "markdown",
   "id": "9d73f288-570f-47c8-afee-1cf867240129",
   "metadata": {},
   "source": [
    "DECIMAL: 1 2 3 4 5 6 7 8 9 10 11 12 13 14 15<br>\n",
    "HEXA  : 1 2 3 4 5 6 7 8 9 A&nbsp;B&nbsp;C&nbsp;D&nbsp;E&nbsp;F"
   ]
  },
  {
   "cell_type": "code",
   "execution_count": 33,
   "id": "ee69123f-74cd-4281-bdd4-d2630d903a87",
   "metadata": {},
   "outputs": [
    {
     "name": "stdin",
     "output_type": "stream",
     "text": [
      "Hexa:  E9A\n"
     ]
    },
    {
     "name": "stdout",
     "output_type": "stream",
     "text": [
      "dec:  3738\n",
      "bin:  111010011010\n"
     ]
    }
   ],
   "source": [
    "num = input(\"Hexa: \")\n",
    "dec_val = 0\n",
    "place = 1\n",
    "ld = 0\n",
    "\n",
    "for i in num[::-1]: # splice operator to reverse the string\n",
    "    if i.isdigit():\n",
    "        ld = int(i)\n",
    "    else:\n",
    "        if i == 'A':\n",
    "            ld=10\n",
    "        elif i == 'B':\n",
    "            ld = 11\n",
    "        elif i == 'C':\n",
    "            ld = 12\n",
    "        elif i == 'D':\n",
    "            ld = 13\n",
    "        elif i == 'E':\n",
    "            ld = 14\n",
    "        else:\n",
    "            ld = 15\n",
    "\n",
    "    dec_val += ld*place\n",
    "    place *= 16\n",
    "\n",
    "print(\"dec: \", dec_val)\n",
    "\n",
    "bin_val = 0\n",
    "place = 1\n",
    "\n",
    "while dec_val != 0:\n",
    "    ld = dec_val%2\n",
    "    bin_val += ld*place\n",
    "    place *= 10\n",
    "    dec_val //=2\n",
    "\n",
    "print(\"bin: \", bin_val)"
   ]
  },
  {
   "cell_type": "code",
   "execution_count": 51,
   "id": "279d5cb3-9e26-4679-86e7-173d3aad7d9f",
   "metadata": {},
   "outputs": [
    {
     "data": {
      "text/plain": [
       "3738"
      ]
     },
     "execution_count": 51,
     "metadata": {},
     "output_type": "execute_result"
    }
   ],
   "source": [
    "int('E9A', 16)"
   ]
  },
  {
   "cell_type": "markdown",
   "id": "9501e14c-0317-45fb-8ef3-96a277ec6c7a",
   "metadata": {},
   "source": [
    "## BIN TO HEXA"
   ]
  },
  {
   "cell_type": "code",
   "execution_count": 54,
   "id": "498120e8-7486-41ae-9582-8d85bf988e44",
   "metadata": {},
   "outputs": [
    {
     "name": "stdin",
     "output_type": "stream",
     "text": [
      "Binary:  111010011010\n"
     ]
    },
    {
     "name": "stdout",
     "output_type": "stream",
     "text": [
      "dec:  3738\n",
      "hex:  E9A\n"
     ]
    }
   ],
   "source": [
    "num = int(input(\"Binary: \"))\n",
    "dec_val = 0\n",
    "place = 1\n",
    "\n",
    "while num != 0:\n",
    "    ld = num%10\n",
    "    dec_val += ld*place\n",
    "    place *= 2\n",
    "    num //=10\n",
    "\n",
    "print(\"dec: \", dec_val)\n",
    "\n",
    "hex_val = ''\n",
    "\n",
    "while dec_val != 0:\n",
    "    rem = dec_val % 16\n",
    "    literal = str(rem)\n",
    "    \n",
    "    if rem > 9:\n",
    "        if rem == 10:\n",
    "            literal = 'A'\n",
    "        elif rem == 11:\n",
    "            literal = 'B'\n",
    "        elif rem == 12:\n",
    "            literal = 'C'\n",
    "        elif rem == 13:\n",
    "            literal = 'D'\n",
    "        elif rem == 14:\n",
    "            literal = 'E'\n",
    "        else:\n",
    "            literal = 'F'\n",
    "\n",
    "    hex_val += literal\n",
    "    dec_val //= 16\n",
    "\n",
    "hex_val = hex_val[::-1]\n",
    "print(\"hex: \", hex_val)"
   ]
  }
 ],
 "metadata": {
  "kernelspec": {
   "display_name": "Python 3 (ipykernel)",
   "language": "python",
   "name": "python3"
  },
  "language_info": {
   "codemirror_mode": {
    "name": "ipython",
    "version": 3
   },
   "file_extension": ".py",
   "mimetype": "text/x-python",
   "name": "python",
   "nbconvert_exporter": "python",
   "pygments_lexer": "ipython3",
   "version": "3.11.0"
  }
 },
 "nbformat": 4,
 "nbformat_minor": 5
}

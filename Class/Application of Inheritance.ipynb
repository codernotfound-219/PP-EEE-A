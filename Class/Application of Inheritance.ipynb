{
 "cells": [
  {
   "cell_type": "code",
   "execution_count": 1,
   "id": "15e4a587-b75a-4a80-bbb6-5ac024098539",
   "metadata": {},
   "outputs": [],
   "source": [
    "class Vehicle:\n",
    "    def __init__(self, brand, model):\n",
    "        self.brand = brand\n",
    "        self.model = model\n",
    "\n",
    "    def details(self):\n",
    "        return f\"Vehicle: Brand={self.brand}, Model={self.model}\"\n",
    "\n",
    "\n",
    "class Car(Vehicle):\n",
    "    def __init__(self, brand, model, wheels):\n",
    "        super().__init__(brand, model)            # Call parent constructor via super()\n",
    "        self.wheels = wheels                        # Instance attribute\n",
    "\n",
    "    def details(self):\n",
    "        return f\"Car: Brand={self.brand}, Model={self.model}, Wheels={self.wheels}\""
   ]
  },
  {
   "cell_type": "code",
   "execution_count": 2,
   "id": "c2ff8273-10d8-4402-b3ab-c7b4d2c7c2e3",
   "metadata": {},
   "outputs": [],
   "source": [
    "vehicle = Vehicle(\"Generic\", \"Model X\")\n",
    "car = Car(\"Toyota\", \"Supra\", 4)"
   ]
  },
  {
   "cell_type": "code",
   "execution_count": 3,
   "id": "0bf816dd-55f8-4c5e-9a01-bf5136a3b6e7",
   "metadata": {},
   "outputs": [
    {
     "name": "stdout",
     "output_type": "stream",
     "text": [
      "Vehicle: Brand=Generic, Model=Model X\n",
      "Car: Brand=Toyota, Model=Supra, Wheels=4\n"
     ]
    }
   ],
   "source": [
    "print(vehicle.details())\n",
    "print(car.details())"
   ]
  }
 ],
 "metadata": {
  "kernelspec": {
   "display_name": "Python 3 (ipykernel)",
   "language": "python",
   "name": "python3"
  },
  "language_info": {
   "codemirror_mode": {
    "name": "ipython",
    "version": 3
   },
   "file_extension": ".py",
   "mimetype": "text/x-python",
   "name": "python",
   "nbconvert_exporter": "python",
   "pygments_lexer": "ipython3",
   "version": "3.12.6"
  }
 },
 "nbformat": 4,
 "nbformat_minor": 5
}

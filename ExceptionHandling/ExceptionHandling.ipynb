{
 "cells": [
  {
   "cell_type": "code",
   "execution_count": 1,
   "id": "db07ace6-a9f0-4c73-ba9d-a97d7f002c65",
   "metadata": {},
   "outputs": [
    {
     "name": "stdout",
     "output_type": "stream",
     "text": [
      "0.5\n",
      "ERROR: cannot divide zero\n"
     ]
    }
   ],
   "source": [
    "# SINGLE ERROR HANDLING\n",
    "def divide(a, b):\n",
    "    try:\n",
    "        result = a / b\n",
    "        return result\n",
    "    except ZeroDivisionError:\n",
    "        return f\"ERROR: cannot divide zero\"\n",
    "\n",
    "print(divide(1, 2))\n",
    "print(divide(1, 0))"
   ]
  },
  {
   "cell_type": "code",
   "execution_count": 3,
   "id": "65292f85-a2f0-45f3-b468-73078046424f",
   "metadata": {},
   "outputs": [
    {
     "name": "stdout",
     "output_type": "stream",
     "text": [
      "5.2631578947368425\n",
      "ERROR: invalid input\n",
      "ERROR: cannot divide by zero\n",
      "An unexpected error occured: int() argument must be a string, a bytes-like object or a real number, not 'list'\n"
     ]
    }
   ],
   "source": [
    "# MULTIPLE ERROR HANDLING\n",
    "def process_data(data):\n",
    "    try:\n",
    "        value = int(data)\n",
    "        result = 100 / value\n",
    "        return result\n",
    "    except ValueError:\n",
    "        return \"ERROR: invalid input\"\n",
    "    except ZeroDivisionError:\n",
    "        return \"ERROR: cannot divide by zero\"\n",
    "    except Exception as e:\n",
    "        return f\"An unexpected error occured: {e}\"\n",
    "\n",
    "listy = [\n",
    "    process_data(\"19\"),     # NO ERROR\n",
    "    process_data(\"abc\"),    # Value error\n",
    "    process_data(\"0\"),      # ZeroDivisionError\n",
    "    process_data([1, 2, 3,])\n",
    "]\n",
    "\n",
    "for i in listy:\n",
    "    print(i)"
   ]
  },
  {
   "cell_type": "code",
   "execution_count": 10,
   "id": "294dee67-15c3-4eb1-a2cd-e8c99d5c682f",
   "metadata": {},
   "outputs": [],
   "source": [
    "# ELSE AND FINALLY BLOCKS\n",
    "def read_file(filename):\n",
    "    try:\n",
    "        with open(filename, 'r') as file:\n",
    "            content = file.read()\n",
    "    except FileNotFoundError:\n",
    "        print(f\"ERROR: file not found\")\n",
    "    else:\n",
    "        print(content)\n",
    "    finally:\n",
    "        print('Operation completed')"
   ]
  },
  {
   "cell_type": "code",
   "execution_count": 11,
   "id": "9f9d85c3-b7b1-4a33-92fa-be03c3fb473c",
   "metadata": {},
   "outputs": [
    {
     "name": "stdout",
     "output_type": "stream",
     "text": [
      "ERROR: file not found\n",
      "Operation completed\n"
     ]
    }
   ],
   "source": [
    "read_file('dgaf.txt')"
   ]
  },
  {
   "cell_type": "code",
   "execution_count": 12,
   "id": "ee7f59ab-11ec-457e-8f68-4fa926b970da",
   "metadata": {},
   "outputs": [
    {
     "name": "stdout",
     "output_type": "stream",
     "text": [
      "what the hell is wrong with u?\n",
      "Operation completed\n"
     ]
    }
   ],
   "source": [
    "read_file('alpha.txt')"
   ]
  },
  {
   "cell_type": "code",
   "execution_count": 13,
   "id": "eb1de984-ae31-434e-acd1-121a698f58d6",
   "metadata": {},
   "outputs": [
    {
     "name": "stdout",
     "output_type": "stream",
     "text": [
      "You are 25 years old\n",
      "Validation error: Age cannot be negative\n"
     ]
    }
   ],
   "source": [
    "# RAISE exceptions\n",
    "def validate_age(age):\n",
    "    if age < 0:\n",
    "        raise ValueError(\"Age cannot be negative\")\n",
    "    elif age > 120:\n",
    "        raise ValueError(\"Aint no way ur that old\")\n",
    "    else:\n",
    "        print(f\"You are {age} years old\")\n",
    "\n",
    "try:\n",
    "    validate_age(25)\n",
    "    validate_age(-25)\n",
    "    validate_age(123)\n",
    "except ValueError as e:\n",
    "    print(f\"Validation error: {e}\")"
   ]
  },
  {
   "cell_type": "code",
   "execution_count": 15,
   "id": "67e00945-d554-409d-88c5-b298d416be94",
   "metadata": {},
   "outputs": [
    {
     "name": "stdout",
     "output_type": "stream",
     "text": [
      "Validation error: Aint no way ur that old\n"
     ]
    }
   ],
   "source": [
    "# Note that the control block leaves the scope when an exception has been encountered. (validate_age(123) never got executed)\n",
    "try:\n",
    "    validate_age(124)\n",
    "except ValueError as e:\n",
    "    print(f\"Validation error: {e}\")"
   ]
  },
  {
   "cell_type": "code",
   "execution_count": 17,
   "id": "122c7f15-7859-4fd6-ae79-1a197b4f6eb6",
   "metadata": {},
   "outputs": [
    {
     "name": "stdout",
     "output_type": "stream",
     "text": [
      "Withdrew 50, remaining balance: 50\n",
      "Error: Cannot withdraw 100, as Balance is 50\n"
     ]
    }
   ],
   "source": [
    "# CUSTOM ERRORS\n",
    "class InsufficientFundError(Exception):\n",
    "    pass\n",
    "\n",
    "class BankAccount:\n",
    "    def __init__(self, balance=0):\n",
    "        self.balance = balance\n",
    "\n",
    "    def withdraw(self, amt):\n",
    "        if amt > self.balance:\n",
    "            raise InsufficientFundError(f\"Cannot withdraw {amt}, as Balance is {self.balance}\")\n",
    "        self.balance -= amt\n",
    "        print(f\"Withdrew {amt}, remaining balance: {self.balance}\")\n",
    "\n",
    "\n",
    "account = BankAccount(100)\n",
    "\n",
    "try:\n",
    "    account.withdraw(50)\n",
    "    account.withdraw(100)\n",
    "except InsufficientFundError as e:\n",
    "    print(f\"Error: {e}\")"
   ]
  },
  {
   "cell_type": "markdown",
   "id": "2b141784-318a-4843-8285-7e2b818a941c",
   "metadata": {},
   "source": [
    "## The raise keyword raises and error and escapes the control flow(as seen above)"
   ]
  },
  {
   "cell_type": "code",
   "execution_count": 19,
   "id": "5df647ba-5b61-446f-ae07-25431dbf4175",
   "metadata": {},
   "outputs": [],
   "source": [
    "# using match keyword\n",
    "\n",
    "def process_data(data):\n",
    "    try:\n",
    "        result = int(data) / len(data)\n",
    "    except Exception as e:\n",
    "        match e:\n",
    "            case ValueError():\n",
    "                print(\"ERROR: Invalid Input\")\n",
    "            case ZeroDivisionError():\n",
    "                print(\"ERROR: cannot divide by zero\")\n",
    "            case TypeError():\n",
    "                print(\"ERROR: input is to be a string of numbers\")\n",
    "            case _:\n",
    "                print(f\"UNEXPECTED ERROR: {e}\")\n",
    "    else:\n",
    "        print(f\"Result: {result}\")"
   ]
  },
  {
   "cell_type": "code",
   "execution_count": 21,
   "id": "ceb53ae6-77fd-4fdd-873b-b50d755310e3",
   "metadata": {},
   "outputs": [
    {
     "name": "stdout",
     "output_type": "stream",
     "text": [
      "Result: 5.0\n",
      "ERROR: Invalid Input\n",
      "Result: 0.0\n",
      "ERROR: Invalid Input\n",
      "ERROR: input is to be a string of numbers\n"
     ]
    }
   ],
   "source": [
    "process_data(\"10\")\n",
    "process_data(\"abc\")\n",
    "process_data(\"0\")\n",
    "process_data(\"\")\n",
    "process_data([1, 2, 3])"
   ]
  }
 ],
 "metadata": {
  "kernelspec": {
   "display_name": "Python 3 (ipykernel)",
   "language": "python",
   "name": "python3"
  },
  "language_info": {
   "codemirror_mode": {
    "name": "ipython",
    "version": 3
   },
   "file_extension": ".py",
   "mimetype": "text/x-python",
   "name": "python",
   "nbconvert_exporter": "python",
   "pygments_lexer": "ipython3",
   "version": "3.12.6"
  }
 },
 "nbformat": 4,
 "nbformat_minor": 5
}

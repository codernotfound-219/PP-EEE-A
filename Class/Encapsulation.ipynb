{
 "cells": [
  {
   "cell_type": "code",
   "execution_count": 1,
   "id": "e46d5fc4-3b99-4814-bcfc-ab3fdd0f9fe9",
   "metadata": {},
   "outputs": [],
   "source": [
    "class Vehicle:\n",
    "    def __init__(self, make, model, year):\n",
    "        self._make = make             # _ indicates Protected attribute\n",
    "        self._model = model\n",
    "        self._year = year\n",
    "\n",
    "        self.__mileage = 0            # PRIVATE ATTRIBUTE\n",
    "\n",
    "    def get_mileage(self):\n",
    "        return self.__mileage\n",
    "\n",
    "    def add_mileage(self, miles):\n",
    "        if miles > 0:\n",
    "            self.__mileage += miles\n",
    "        else:\n",
    "            print(\"Mileage cannot be negative\")\n",
    "\n",
    "    def display_info(self):\n",
    "        return f\"{self._year}, {self._make}, {self._model}, Mileage: {self.__mileage}\""
   ]
  },
  {
   "cell_type": "code",
   "execution_count": 2,
   "id": "70fe3085-475c-4a51-9b0a-b1edc936b039",
   "metadata": {},
   "outputs": [
    {
     "name": "stdout",
     "output_type": "stream",
     "text": [
      "2022, Toyota, Corolla, Mileage: 0\n"
     ]
    }
   ],
   "source": [
    "my_car = Vehicle(\"Toyota\", \"Corolla\", 2022)\n",
    "print(my_car.display_info())"
   ]
  },
  {
   "cell_type": "code",
   "execution_count": 3,
   "id": "8746db1b-80ea-40c1-9042-7e196fe517ef",
   "metadata": {},
   "outputs": [
    {
     "name": "stdout",
     "output_type": "stream",
     "text": [
      "2022, Toyota, Corolla, Mileage: 100\n"
     ]
    }
   ],
   "source": [
    "my_car.add_mileage(100)\n",
    "print(my_car.display_info())"
   ]
  },
  {
   "cell_type": "code",
   "execution_count": 4,
   "id": "1e5f996e-adfa-4d25-a4b3-321d61ed6f8d",
   "metadata": {},
   "outputs": [
    {
     "data": {
      "text/plain": [
       "'Toyota'"
      ]
     },
     "execution_count": 4,
     "metadata": {},
     "output_type": "execute_result"
    }
   ],
   "source": [
    "my_car._make"
   ]
  },
  {
   "cell_type": "code",
   "execution_count": 5,
   "id": "92b8969f-e2ea-46d6-9a6e-d5d7b5ff4ee5",
   "metadata": {},
   "outputs": [
    {
     "ename": "AttributeError",
     "evalue": "'Vehicle' object has no attribute '__mileage'",
     "output_type": "error",
     "traceback": [
      "\u001b[0;31m---------------------------------------------------------------------------\u001b[0m",
      "\u001b[0;31mAttributeError\u001b[0m                            Traceback (most recent call last)",
      "Cell \u001b[0;32mIn[5], line 1\u001b[0m\n\u001b[0;32m----> 1\u001b[0m \u001b[43mmy_car\u001b[49m\u001b[38;5;241;43m.\u001b[39;49m\u001b[43m__mileage\u001b[49m\n",
      "\u001b[0;31mAttributeError\u001b[0m: 'Vehicle' object has no attribute '__mileage'"
     ]
    }
   ],
   "source": [
    "my_car.__mileage"
   ]
  },
  {
   "cell_type": "markdown",
   "id": "e11ae796-0ec8-4f62-90ad-a2d15d9f8d87",
   "metadata": {},
   "source": [
    "## EXPLANATION:\n",
    "1. private: attributes that are present only in current classes scope\n",
    "2. protected: attributes that can be accessed by the current class and its subclasses and shoudl not be accessed from outside the program. (What the hell is its use then???)"
   ]
  },
  {
   "cell_type": "code",
   "execution_count": 6,
   "id": "2b2cd64f-9947-4f5e-8a68-700cd3f18557",
   "metadata": {},
   "outputs": [
    {
     "data": {
      "text/plain": [
       "'r2j'"
      ]
     },
     "execution_count": 6,
     "metadata": {},
     "output_type": "execute_result"
    }
   ],
   "source": [
    "class Geek:\n",
    "    _name = \"r2j\"\n",
    "    _roll = 170625\n",
    "\n",
    "obj = Geek()\n",
    "obj._name    # BAD CODE PRACTICE"
   ]
  },
  {
   "cell_type": "code",
   "execution_count": 7,
   "id": "47e42bb6-1b9b-41f6-95b0-18248900aed8",
   "metadata": {},
   "outputs": [],
   "source": [
    "## PRIVATE METHODS\n",
    "\n",
    "class Vehicle:\n",
    "    def __init__(self, brand, year):\n",
    "        self._brand = brand\n",
    "        self._year = year\n",
    "\n",
    "    def __private_method(self):\n",
    "        return f\"{self._brand}\"\n",
    "\n",
    "class Car(Vehicle):\n",
    "    def __init__(self, brand, year, make):\n",
    "        super().__init__(brand, year)\n",
    "        self._make = make\n",
    "\n",
    "    def public_method(self):\n",
    "        return f\"{self._brand}, {self._make}\""
   ]
  },
  {
   "cell_type": "code",
   "execution_count": 8,
   "id": "034acc8e-3107-4064-b86b-cff8465719b6",
   "metadata": {},
   "outputs": [
    {
     "data": {
      "text/plain": [
       "'Toyota, CAMRY'"
      ]
     },
     "execution_count": 8,
     "metadata": {},
     "output_type": "execute_result"
    }
   ],
   "source": [
    "veh = Vehicle(\"Generic\", 1995)\n",
    "car = Car(\"Toyota\", 2302, \"CAMRY\")\n",
    "\n",
    "car.public_method()"
   ]
  },
  {
   "cell_type": "code",
   "execution_count": 9,
   "id": "aca4e18c-e863-40c8-be3d-c0137d010c3d",
   "metadata": {},
   "outputs": [
    {
     "ename": "AttributeError",
     "evalue": "'Car' object has no attribute '__private_method'",
     "output_type": "error",
     "traceback": [
      "\u001b[0;31m---------------------------------------------------------------------------\u001b[0m",
      "\u001b[0;31mAttributeError\u001b[0m                            Traceback (most recent call last)",
      "Cell \u001b[0;32mIn[9], line 1\u001b[0m\n\u001b[0;32m----> 1\u001b[0m \u001b[43mcar\u001b[49m\u001b[38;5;241;43m.\u001b[39;49m\u001b[43m__private_method\u001b[49m()\n",
      "\u001b[0;31mAttributeError\u001b[0m: 'Car' object has no attribute '__private_method'"
     ]
    }
   ],
   "source": [
    "car.__private_method()"
   ]
  },
  {
   "cell_type": "code",
   "execution_count": 10,
   "id": "a8b86dbf-d718-447d-9407-d92f7d131ac0",
   "metadata": {},
   "outputs": [
    {
     "ename": "AttributeError",
     "evalue": "'Vehicle' object has no attribute '__private_method'",
     "output_type": "error",
     "traceback": [
      "\u001b[0;31m---------------------------------------------------------------------------\u001b[0m",
      "\u001b[0;31mAttributeError\u001b[0m                            Traceback (most recent call last)",
      "Cell \u001b[0;32mIn[10], line 1\u001b[0m\n\u001b[0;32m----> 1\u001b[0m \u001b[43mveh\u001b[49m\u001b[38;5;241;43m.\u001b[39;49m\u001b[43m__private_method\u001b[49m()\n",
      "\u001b[0;31mAttributeError\u001b[0m: 'Vehicle' object has no attribute '__private_method'"
     ]
    }
   ],
   "source": [
    "veh.__private_method()"
   ]
  }
 ],
 "metadata": {
  "kernelspec": {
   "display_name": "Python 3 (ipykernel)",
   "language": "python",
   "name": "python3"
  },
  "language_info": {
   "codemirror_mode": {
    "name": "ipython",
    "version": 3
   },
   "file_extension": ".py",
   "mimetype": "text/x-python",
   "name": "python",
   "nbconvert_exporter": "python",
   "pygments_lexer": "ipython3",
   "version": "3.12.6"
  }
 },
 "nbformat": 4,
 "nbformat_minor": 5
}

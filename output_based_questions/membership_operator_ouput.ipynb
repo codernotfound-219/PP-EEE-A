{
 "cells": [
  {
   "cell_type": "code",
   "execution_count": 3,
   "id": "284624b7-2c46-4e8b-9d98-876ed8d61c69",
   "metadata": {},
   "outputs": [
    {
     "name": "stdout",
     "output_type": "stream",
     "text": [
      "\n"
     ]
    }
   ],
   "source": [
    "s = \"myDumbAss\"\n",
    "print(s[-1:-1])"
   ]
  },
  {
   "cell_type": "code",
   "execution_count": 5,
   "id": "c07dd75d-2666-4ff5-88d9-c133148e1daa",
   "metadata": {},
   "outputs": [
    {
     "name": "stdout",
     "output_type": "stream",
     "text": [
      "s\n"
     ]
    }
   ],
   "source": [
    "print(s[-1:])"
   ]
  },
  {
   "cell_type": "code",
   "execution_count": 8,
   "id": "b7461332-15f1-46be-8126-e5db6ed2248e",
   "metadata": {},
   "outputs": [
    {
     "name": "stdout",
     "output_type": "stream",
     "text": [
      "4382601424 4382601424 4382601424\n",
      "True\n",
      "True\n",
      "True\n"
     ]
    }
   ],
   "source": [
    "a = 70\n",
    "b = a\n",
    "c = 70\n",
    "\n",
    "print(id(a), id(b), id(c))\n",
    "\n",
    "print(a is b)\n",
    "print(b is c)\n",
    "print(a is c)"
   ]
  },
  {
   "cell_type": "code",
   "execution_count": 11,
   "id": "85a09d61-9489-48e3-b5d3-8150407c531b",
   "metadata": {},
   "outputs": [
    {
     "name": "stdout",
     "output_type": "stream",
     "text": [
      "True\n",
      "False\n",
      "True\n",
      "False\n"
     ]
    }
   ],
   "source": [
    "# SMALL INTEGERS: anything between -5 to 256 (both inclusive), if dupes are found,\n",
    "# they will be stored in the same memory address.\n",
    "\n",
    "x = 256\n",
    "y = 256\n",
    "\n",
    "print(x is y)\n",
    "\n",
    "x = 257\n",
    "y = 257\n",
    "\n",
    "print(x is y)\n",
    "\n",
    "x = -5\n",
    "y = -5\n",
    "\n",
    "print(x is y)\n",
    "\n",
    "x = -6\n",
    "y = -6\n",
    "print(x is y)"
   ]
  },
  {
   "cell_type": "code",
   "execution_count": 9,
   "id": "5637e79a-000e-4a3f-87df-5c086261a706",
   "metadata": {},
   "outputs": [
    {
     "name": "stdout",
     "output_type": "stream",
     "text": [
      "4439717696 4439624064\n",
      "False True\n"
     ]
    }
   ],
   "source": [
    "a = {2: 1, 3: 0}\n",
    "b = {2: 1, 3: 0}\n",
    "\n",
    "print(id(a), id(b))\n",
    "print(a is b, a==b)"
   ]
  },
  {
   "cell_type": "code",
   "execution_count": 15,
   "id": "11fb637a-1934-4172-8ccf-ed299b3c5c5b",
   "metadata": {},
   "outputs": [
    {
     "name": "stdout",
     "output_type": "stream",
     "text": [
      "104\n"
     ]
    }
   ],
   "source": [
    "print(13<<3)"
   ]
  },
  {
   "cell_type": "code",
   "execution_count": 15,
   "id": "0a070477-fefa-406f-913b-49f8e4146ea1",
   "metadata": {},
   "outputs": [
    {
     "name": "stdout",
     "output_type": "stream",
     "text": [
      "4382599504 4382599984\n",
      "False\n",
      "False\n",
      "False\n"
     ]
    }
   ],
   "source": [
    "a = 25\n",
    "b = 25\n",
    "a = 10\n",
    "\n",
    "print(id(a), id(b))\n",
    "\n",
    "print(a is b)\n",
    "print(a is c)\n",
    "print(b is c)"
   ]
  },
  {
   "cell_type": "code",
   "execution_count": 27,
   "id": "66e82ae3-8db7-4dce-93b3-8e0d2c58e61f",
   "metadata": {},
   "outputs": [
    {
     "name": "stdout",
     "output_type": "stream",
     "text": [
      "Binary:  100\n",
      "4\n"
     ]
    },
    {
     "name": "stdout",
     "output_type": "stream",
     "text": [
      "4\n"
     ]
    }
   ],
   "source": [
    "n = int(input(\"Binary: \"))\n",
    "base =1 \n",
    "dec_val = 0\n",
    "\n",
    "while (n > 0):\n",
    "    ld = n%10\n",
    "    dec_val += ld*base\n",
    "    base *= 2\n",
    "    n //= 10\n",
    "\n",
    "print(dec_val)"
   ]
  },
  {
   "cell_type": "code",
   "execution_count": 29,
   "id": "29be140e-8130-41b2-bc3f-66d63ca3e935",
   "metadata": {},
   "outputs": [
    {
     "name": "stdout",
     "output_type": "stream",
     "text": [
      "DECIMAL:  4\n",
      "100\n"
     ]
    },
    {
     "name": "stdout",
     "output_type": "stream",
     "text": [
      "100\n"
     ]
    }
   ],
   "source": [
    "n = int(input(\"DECIMAL: \"))\n",
    "place = 1\n",
    "bin_val = 0\n",
    "\n",
    "while (n > 0) :\n",
    "    ld = n%2\n",
    "    bin_val += ld * place\n",
    "    place*=10\n",
    "    n //= 2\n",
    "\n",
    "print(bin_val)"
   ]
  },
  {
   "cell_type": "code",
   "execution_count": 33,
   "id": "20557d27-1670-4174-824e-6276e20c1ba5",
   "metadata": {},
   "outputs": [
    {
     "name": "stdout",
     "output_type": "stream",
     "text": [
      "Binary:  1101\n",
      "13\n"
     ]
    },
    {
     "name": "stdout",
     "output_type": "stream",
     "text": [
      "13\n"
     ]
    }
   ],
   "source": [
    "n = int(input(\"Binary: \"))\n",
    "\n",
    "place = 1\n",
    "dec_val = 0\n",
    "\n",
    "while n > 0:\n",
    "    ld = n%10\n",
    "    dec_val += place*ld\n",
    "    place*=2\n",
    "    n //= 10\n",
    "\n",
    "print(dec_val)"
   ]
  },
  {
   "cell_type": "code",
   "execution_count": 35,
   "id": "3a257300-89f2-4691-b0d3-3e0530c184d6",
   "metadata": {},
   "outputs": [
    {
     "name": "stdout",
     "output_type": "stream",
     "text": [
      "Decimal:  12\n",
      "1100\n"
     ]
    },
    {
     "name": "stdout",
     "output_type": "stream",
     "text": [
      "1100\n"
     ]
    }
   ],
   "source": [
    "n = int(input(\"Decimal: \"))\n",
    "\n",
    "place = 1\n",
    "bin_val = 0\n",
    "\n",
    "while n > 0:\n",
    "    ld = n%2\n",
    "    bin_val += place*ld\n",
    "    place *= 10\n",
    "    n //= 2\n",
    "\n",
    "print(bin_val)"
   ]
  }
 ],
 "metadata": {
  "kernelspec": {
   "display_name": "Python 3 (ipykernel)",
   "language": "python",
   "name": "python3"
  },
  "language_info": {
   "codemirror_mode": {
    "name": "ipython",
    "version": 3
   },
   "file_extension": ".py",
   "mimetype": "text/x-python",
   "name": "python",
   "nbconvert_exporter": "python",
   "pygments_lexer": "ipython3",
   "version": "3.11.0"
  }
 },
 "nbformat": 4,
 "nbformat_minor": 5
}

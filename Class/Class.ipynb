{
 "cells": [
  {
   "cell_type": "code",
   "execution_count": 1,
   "id": "11101ee8-0d7b-43d8-9919-42a935f69f6e",
   "metadata": {},
   "outputs": [],
   "source": [
    "class Person:\n",
    "\n",
    "    # Constructor:\n",
    "    def __init__(self, name, age):\n",
    "        self.name = name          # Instance attribute\n",
    "        self.age = age            # Instance attribute {unique to each object}\n",
    "\n",
    "\n",
    "    # Functions:\n",
    "    def greet(self):\n",
    "        return f\"Hi {self.name}. You are {self.age} years old.\""
   ]
  },
  {
   "cell_type": "code",
   "execution_count": 2,
   "id": "fe51321d-989d-4463-af3d-2c62350beb9c",
   "metadata": {},
   "outputs": [],
   "source": [
    "person1 = Person(\"Ashwin\", 15)"
   ]
  },
  {
   "cell_type": "code",
   "execution_count": 3,
   "id": "e733660e-de7a-4036-bc47-f260ec4ba3f0",
   "metadata": {},
   "outputs": [
    {
     "data": {
      "text/plain": [
       "('Ashwin', 15)"
      ]
     },
     "execution_count": 3,
     "metadata": {},
     "output_type": "execute_result"
    }
   ],
   "source": [
    "person1.name, person1.age"
   ]
  },
  {
   "cell_type": "code",
   "execution_count": 4,
   "id": "a0d36c44-b1a5-4460-9bf0-9ed2a0948561",
   "metadata": {},
   "outputs": [
    {
     "data": {
      "text/plain": [
       "'Hi Ashwin. You are 15 years old.'"
      ]
     },
     "execution_count": 4,
     "metadata": {},
     "output_type": "execute_result"
    }
   ],
   "source": [
    "person1.greet()"
   ]
  },
  {
   "cell_type": "code",
   "execution_count": 5,
   "id": "7c7a95c8-b58b-4d8b-b023-bc9ecba06a5c",
   "metadata": {},
   "outputs": [],
   "source": [
    "class Car:\n",
    "    wheels = 4               # Class attribute { common to all objects }\n",
    "\n",
    "    def __init__(self, brand):\n",
    "        self.brand = brand       # Instance attribute {unique to each object}"
   ]
  },
  {
   "cell_type": "code",
   "execution_count": 6,
   "id": "15045d41-79fc-4f71-80d9-daad765f42f9",
   "metadata": {},
   "outputs": [],
   "source": [
    "car1 = Car(\"Goofy ah Jaguar\")\n",
    "car2 = Car(\"Volkswagen\")"
   ]
  },
  {
   "cell_type": "code",
   "execution_count": 7,
   "id": "e82bb067-8f1f-40dd-badd-01f430e94c19",
   "metadata": {},
   "outputs": [
    {
     "name": "stdout",
     "output_type": "stream",
     "text": [
      "4\n",
      "Goofy ah Jaguar ,  Volkswagen\n"
     ]
    }
   ],
   "source": [
    "print(car1.wheels)\n",
    "print(car1.brand, \", \", car2.brand)"
   ]
  }
 ],
 "metadata": {
  "kernelspec": {
   "display_name": "Python 3 (ipykernel)",
   "language": "python",
   "name": "python3"
  },
  "language_info": {
   "codemirror_mode": {
    "name": "ipython",
    "version": 3
   },
   "file_extension": ".py",
   "mimetype": "text/x-python",
   "name": "python",
   "nbconvert_exporter": "python",
   "pygments_lexer": "ipython3",
   "version": "3.12.6"
  }
 },
 "nbformat": 4,
 "nbformat_minor": 5
}

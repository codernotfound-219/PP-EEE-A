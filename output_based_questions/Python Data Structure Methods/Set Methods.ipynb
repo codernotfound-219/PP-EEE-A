{
 "cells": [
  {
   "cell_type": "code",
   "execution_count": 14,
   "id": "72b21972-1e64-4ccb-a2f2-4da7919e8a89",
   "metadata": {},
   "outputs": [],
   "source": [
    "# NOTE: \n",
    "# Sets are unordered in python\n",
    "# However from 3.11, the sets at the backend do remain unordered but when displaying, python displays it in sorted order."
   ]
  },
  {
   "cell_type": "code",
   "execution_count": 2,
   "id": "d8a8dc9e-648e-4a53-9f63-d9cda759adb5",
   "metadata": {},
   "outputs": [
    {
     "data": {
      "text/plain": [
       "set"
      ]
     },
     "execution_count": 2,
     "metadata": {},
     "output_type": "execute_result"
    }
   ],
   "source": [
    "s = {'g', 'e', 'k', 's'}\n",
    "type(s)"
   ]
  },
  {
   "cell_type": "code",
   "execution_count": 10,
   "id": "3e919a5b-0a17-44e3-8f4c-fc029ecef477",
   "metadata": {},
   "outputs": [
    {
     "data": {
      "text/plain": [
       "{'e', 'f', 'g', 'k', 'l', 's'}"
      ]
     },
     "execution_count": 10,
     "metadata": {},
     "output_type": "execute_result"
    }
   ],
   "source": [
    "# NOTE: \n",
    "s.add('f')\n",
    "s.add('l')\n",
    "s"
   ]
  },
  {
   "cell_type": "code",
   "execution_count": 11,
   "id": "def245c8-592a-4433-b289-533ae2a626d8",
   "metadata": {},
   "outputs": [
    {
     "data": {
      "text/plain": [
       "{'e', 'f', 'k', 'l', 's'}"
      ]
     },
     "execution_count": 11,
     "metadata": {},
     "output_type": "execute_result"
    }
   ],
   "source": [
    "s.discard('g')\n",
    "s"
   ]
  },
  {
   "cell_type": "code",
   "execution_count": 12,
   "id": "f182dd9f-f356-4613-a6e1-28d43202d11c",
   "metadata": {},
   "outputs": [
    {
     "data": {
      "text/plain": [
       "{'f', 'k', 'l', 's'}"
      ]
     },
     "execution_count": 12,
     "metadata": {},
     "output_type": "execute_result"
    }
   ],
   "source": [
    "s.remove('e')\n",
    "s"
   ]
  },
  {
   "cell_type": "code",
   "execution_count": 17,
   "id": "7b8bdf1b-a7f4-4d95-a9e9-d4d832c1dd5d",
   "metadata": {},
   "outputs": [
    {
     "data": {
      "text/plain": [
       "{'f', 'l'}"
      ]
     },
     "execution_count": 17,
     "metadata": {},
     "output_type": "execute_result"
    }
   ],
   "source": [
    "# Removes a random element \n",
    "s.pop()\n",
    "s"
   ]
  },
  {
   "cell_type": "code",
   "execution_count": 15,
   "id": "e7f9f3f2-01d5-4d80-8e5f-4b89a5fbe9d9",
   "metadata": {},
   "outputs": [],
   "source": [
    "# DIFFERENCE BETWEEN DISCARD AND REMOVE:\n",
    "s.discard('p')"
   ]
  },
  {
   "cell_type": "code",
   "execution_count": 16,
   "id": "5afeb7cf-d6d4-43d2-b420-21d149265f48",
   "metadata": {},
   "outputs": [],
   "source": [
    "# There is no error that appears in discard method when trying to remove an element that is not in the set.\n",
    "# However remove method will cause an error."
   ]
  }
 ],
 "metadata": {
  "kernelspec": {
   "display_name": "Python 3 (ipykernel)",
   "language": "python",
   "name": "python3"
  },
  "language_info": {
   "codemirror_mode": {
    "name": "ipython",
    "version": 3
   },
   "file_extension": ".py",
   "mimetype": "text/x-python",
   "name": "python",
   "nbconvert_exporter": "python",
   "pygments_lexer": "ipython3",
   "version": "3.12.6"
  }
 },
 "nbformat": 4,
 "nbformat_minor": 5
}

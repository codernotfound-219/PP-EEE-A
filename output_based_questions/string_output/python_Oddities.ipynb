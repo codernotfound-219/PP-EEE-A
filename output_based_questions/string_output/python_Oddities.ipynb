{
 "cells": [
  {
   "cell_type": "code",
   "execution_count": 1,
   "id": "ab35d938-2392-462a-8a55-03452ea6680c",
   "metadata": {},
   "outputs": [
    {
     "name": "stdout",
     "output_type": "stream",
     "text": [
      "['h', 'e', 'l', 'l', 'o']\n"
     ]
    }
   ],
   "source": [
    "# Go through this: https://www.instagram.com/reel/DAVHlzUTjZV/?igsh=MTZ3aWFsdWJhbmdteQ==\n",
    "print([i.lower() for i in 'HELLO'])"
   ]
  },
  {
   "cell_type": "code",
   "execution_count": 2,
   "id": "dc8b338c-4146-476d-9c12-3b70fd828136",
   "metadata": {},
   "outputs": [
    {
     "name": "stdout",
     "output_type": "stream",
     "text": [
      "100102.32\n",
      "100102.33\n",
      "ROUNDS OFF\n"
     ]
    }
   ],
   "source": [
    "num = 100102.32435\n",
    "print(\"%.2f\"% num)\n",
    "\n",
    "num = 100102.32935\n",
    "print(\"%.2f\"% num)\n",
    "print(\"ROUNDS OFF\")"
   ]
  },
  {
   "cell_type": "code",
   "execution_count": 3,
   "id": "51bd6d33-5c14-459a-9fcf-99b9e8ad9f61",
   "metadata": {},
   "outputs": [
    {
     "name": "stdout",
     "output_type": "stream",
     "text": [
      "[11, 'bool', 54, 33]\n",
      "FILTERS OUT EMPTY VALUES\n"
     ]
    }
   ],
   "source": [
    "lst = [11, 'bool', 54, {}, 33, [], '']\n",
    "print(list(filter(bool, lst)))\n",
    "print(\"FILTERS OUT EMPTY VALUES\")"
   ]
  },
  {
   "cell_type": "code",
   "execution_count": 4,
   "id": "08063e98-533e-4fad-8e83-c6288a3360f1",
   "metadata": {},
   "outputs": [
    {
     "data": {
      "text/plain": [
       "'byte2byte2'"
      ]
     },
     "execution_count": 4,
     "metadata": {},
     "output_type": "execute_result"
    }
   ],
   "source": [
    "def concateter(inp):\n",
    "    inp += '2'\n",
    "    inp *= 2\n",
    "    return inp\n",
    "\n",
    "concateter('byte')"
   ]
  },
  {
   "cell_type": "code",
   "execution_count": 5,
   "id": "dbe2acbc-40db-4230-88f4-4b3a1d16d950",
   "metadata": {},
   "outputs": [
    {
     "data": {
      "text/plain": [
       "False"
      ]
     },
     "execution_count": 5,
     "metadata": {},
     "output_type": "execute_result"
    }
   ],
   "source": [
    "min(max(0, -7.5, -9), 23, 4, 9)\n",
    "min(max(False, -7.5, -9), 23, 4, 9)"
   ]
  },
  {
   "cell_type": "code",
   "execution_count": 6,
   "id": "9c639231-8013-4a0b-8045-dbecddd30381",
   "metadata": {},
   "outputs": [
    {
     "name": "stdout",
     "output_type": "stream",
     "text": [
      "<generator object <genexpr> at 0x130595cb0>\n"
     ]
    }
   ],
   "source": [
    "_str = 'abcd'\n",
    "print(i.upper() for i in _str)"
   ]
  },
  {
   "cell_type": "code",
   "execution_count": 7,
   "id": "098b1c6b-3495-4c08-959e-acc8d18ad2f0",
   "metadata": {},
   "outputs": [
    {
     "name": "stdout",
     "output_type": "stream",
     "text": [
      "A\n",
      "B\n",
      "C\n",
      "D\n"
     ]
    }
   ],
   "source": [
    "_str = 'abcd'\n",
    "for i in _str:\n",
    "    print(i.upper())"
   ]
  },
  {
   "cell_type": "code",
   "execution_count": 8,
   "id": "b786005b-af35-4440-9175-d8060eb90b89",
   "metadata": {},
   "outputs": [
    {
     "name": "stdout",
     "output_type": "stream",
     "text": [
      "H\n",
      "l\n",
      "l\n",
      " \n",
      "W\n",
      "r\n",
      "l\n",
      "d\n",
      "Hll Wrld"
     ]
    }
   ],
   "source": [
    "#list comprehension\n",
    "_txt = \"Hello World\"\n",
    "x = [print(i) for i in _txt if i not in \"aeiou\"]\n",
    "y = [print(i, end=\"\") for i in _txt if i not in \"aeiou\"]"
   ]
  },
  {
   "cell_type": "code",
   "execution_count": 9,
   "id": "b7df2d68-e1cf-41f6-97dc-a64cdcfe1ce0",
   "metadata": {},
   "outputs": [
    {
     "name": "stdout",
     "output_type": "stream",
     "text": [
      "helloworld\n",
      "helloworld\n",
      "hello world\n",
      "Hello\" + world\"\n"
     ]
    }
   ],
   "source": [
    "# WHAT IN THE LIVING WORLD??\n",
    "print('hello' 'world') ##MIND BENDING\n",
    "print('hello' + 'world')\n",
    "print('hello' + \" \" + 'world')\n",
    "print('Hello\" + world\"')\n",
    "# print(1 + 'hello' + 'World') - unsupported operand type error"
   ]
  },
  {
   "cell_type": "code",
   "execution_count": 10,
   "id": "83d0f013-919d-40d4-ab15-25e9c02a1e3f",
   "metadata": {},
   "outputs": [
    {
     "name": "stdout",
     "output_type": "stream",
     "text": [
      "loo\n",
      "hloo\n",
      "hlool\n",
      "dlrowolleh\n",
      "drwle\n"
     ]
    }
   ],
   "source": [
    "#splice operator\n",
    "_str = \"helloworld\"\n",
    "print(_str[2:8:2]) # start(inclusive) : end(non-inclusive) : step\n",
    "print(_str[:8:2])\n",
    "print(_str[::2]) # step operator alone\n",
    "\n",
    "#cool things \n",
    "print(_str[::-1])\n",
    "print(_str[::-2])"
   ]
  },
  {
   "cell_type": "code",
   "execution_count": 11,
   "id": "5f08871a-dc6b-42cd-951e-ac25ddd949dc",
   "metadata": {},
   "outputs": [
    {
     "name": "stdout",
     "output_type": "stream",
     "text": [
      "False\n"
     ]
    }
   ],
   "source": [
    "print('0xa'.isdigit())"
   ]
  },
  {
   "cell_type": "code",
   "execution_count": 12,
   "id": "452dbcd7-a3f0-4f2b-958c-186a993b4a6e",
   "metadata": {},
   "outputs": [
    {
     "data": {
      "text/plain": [
       "11"
      ]
     },
     "execution_count": 12,
     "metadata": {},
     "output_type": "execute_result"
    }
   ],
   "source": [
    "int(1011)\n",
    "# int(1011, 2) - this line gives you an error because u are supposed to give a string as input\n",
    "int('1011', 2) # the second argument mentions base"
   ]
  },
  {
   "cell_type": "code",
   "execution_count": 13,
   "id": "9612c625-f947-49cf-b9d0-665078895e1f",
   "metadata": {},
   "outputs": [
    {
     "name": "stdout",
     "output_type": "stream",
     "text": [
      " abcde \n",
      "*abcde*\n",
      "abcde*\n",
      "**abcde***\n",
      "abcde\n"
     ]
    }
   ],
   "source": [
    "#center function\n",
    "_txt = \"abcde\"\n",
    "print(_txt.center(7)) # (input = odd) adds equal spaces to the front and back (if even arg, adds one extra to the end)\n",
    "print(_txt.center(7, '*')) #sep char\n",
    "\n",
    "print(_txt.center(6, '*'))\n",
    "print(_txt.center(10, '*'))\n",
    "print(_txt.center(4)) # doesnt show an error"
   ]
  },
  {
   "cell_type": "code",
   "execution_count": 14,
   "id": "cdbb264e-0ad5-4ff7-89a5-3d5e27305ff9",
   "metadata": {},
   "outputs": [
    {
     "name": "stdout",
     "output_type": "stream",
     "text": [
      "  banana \n",
      "*banana\n",
      "***banana**\n"
     ]
    }
   ],
   "source": [
    "#center func 2\n",
    "_txt = \"banana\" #inp is even spaces\n",
    "print(_txt.center(9), sep='*') #no sep\n",
    "print(_txt.center(7, '*')) # adds extra to the front in case of odd arg\n",
    "print(_txt.center(11, '*')) # adds extra to the front in case of odd arg"
   ]
  },
  {
   "cell_type": "code",
   "execution_count": 15,
   "id": "335557ab-bc6f-4ccb-a9ac-6a694d4014c9",
   "metadata": {},
   "outputs": [
    {
     "name": "stdout",
     "output_type": "stream",
     "text": [
      "*abcde *\n",
      "*=_abcde__=*\n"
     ]
    }
   ],
   "source": [
    "print(\"*\", \"abcde\".center(6), \"*\", sep=\"\") # adds extra space to the end\n",
    "print(\"*\", \"abcde\".center(8, '_'), \"*\", sep=\"=\") # adds extra space to the end"
   ]
  },
  {
   "cell_type": "code",
   "execution_count": 16,
   "id": "b5f7070b-0f16-4f8d-a826-013778563e17",
   "metadata": {},
   "outputs": [
    {
     "data": {
      "text/plain": [
       "(18.0, 256.0)"
      ]
     },
     "execution_count": 16,
     "metadata": {},
     "output_type": "execute_result"
    }
   ],
   "source": [
    "2 * 9.000000, 2 ** 8.00000 #if all are 0's after decimal point, its rounded down to 1 zero in the output"
   ]
  },
  {
   "cell_type": "code",
   "execution_count": 17,
   "id": "c50e743d-854e-4dd7-8b98-1def5a626adc",
   "metadata": {},
   "outputs": [
    {
     "data": {
      "text/plain": [
       "3"
      ]
     },
     "execution_count": 17,
     "metadata": {},
     "output_type": "execute_result"
    }
   ],
   "source": [
    "round(2.51) #note that the output isnt float"
   ]
  },
  {
   "cell_type": "code",
   "execution_count": 18,
   "id": "c8d4b964-e996-40ce-96d1-701258b20d76",
   "metadata": {},
   "outputs": [
    {
     "data": {
      "text/plain": [
       "[3, 4]"
      ]
     },
     "execution_count": 18,
     "metadata": {},
     "output_type": "execute_result"
    }
   ],
   "source": [
    "lst_1 = [1, 2, 3, 4]\n",
    "lst_2 = [7, 2, 5, 1]\n",
    "lst_3 = list()\n",
    "lst_3.extend(i for i in lst_1 if i not in (lst_2 + [2, 8]) and i not in [2, 6, 7, 8]) # extend adds iterable elements to list\n",
    "lst_3\n"
   ]
  },
  {
   "cell_type": "code",
   "execution_count": 19,
   "id": "622b9cfa-82c4-4204-b095-d4b8d29ace43",
   "metadata": {},
   "outputs": [
    {
     "name": "stdout",
     "output_type": "stream",
     "text": [
      "NameError: 'b' is not defined\n"
     ]
    }
   ],
   "source": [
    "# a = b \n",
    "#what type of error?\n",
    "print('NameError: \\'b\\' is not defined')"
   ]
  },
  {
   "cell_type": "code",
   "execution_count": 20,
   "id": "71da69c7-d0e8-4512-a05f-988fcf7eaec7",
   "metadata": {},
   "outputs": [
    {
     "name": "stdout",
     "output_type": "stream",
     "text": [
      "Python Object is Oriented\n"
     ]
    }
   ],
   "source": [
    "print(\"Python {0[0]} is {0[1]}\".format(('Object', 'Oriented'))) # passing a tuple and accessing it by index"
   ]
  },
  {
   "cell_type": "code",
   "execution_count": 21,
   "id": "80ad5240-f6e4-4e10-9f19-06bbc092a06d",
   "metadata": {},
   "outputs": [
    {
     "name": "stdout",
     "output_type": "stream",
     "text": [
      "0.25\n",
      "0.2\n",
      "25.000000%\n",
      "25.00%\n"
     ]
    }
   ],
   "source": [
    "#percentage representation\n",
    "print('{0}'.format(1/4))\n",
    "print('{0:.1f}'.format(1/4))\n",
    "print('{0:%}'.format(1/4)) # percentage\n",
    "print('{0:.2%}'.format(1/4)) # percentage upto two decimal"
   ]
  },
  {
   "cell_type": "code",
   "execution_count": 22,
   "id": "9a226f0b-c2e9-4023-b704-2b2cfcc19cf8",
   "metadata": {},
   "outputs": [
    {
     "data": {
      "text/plain": [
       "'Abc .def'"
      ]
     },
     "execution_count": 22,
     "metadata": {},
     "output_type": "execute_result"
    }
   ],
   "source": [
    "#capitalize func\n",
    "'abc .DEF'.capitalize() #capitalizes the first char, makes the rest small"
   ]
  }
 ],
 "metadata": {
  "kernelspec": {
   "display_name": "Python 3 (ipykernel)",
   "language": "python",
   "name": "python3"
  },
  "language_info": {
   "codemirror_mode": {
    "name": "ipython",
    "version": 3
   },
   "file_extension": ".py",
   "mimetype": "text/x-python",
   "name": "python",
   "nbconvert_exporter": "python",
   "pygments_lexer": "ipython3",
   "version": "3.11.0"
  }
 },
 "nbformat": 4,
 "nbformat_minor": 5
}

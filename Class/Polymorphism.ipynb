{
 "cells": [
  {
   "cell_type": "code",
   "execution_count": 1,
   "id": "911e9eaa-a01a-4005-9e43-933f6df85e6d",
   "metadata": {},
   "outputs": [],
   "source": [
    "class Vehicle:\n",
    "    def __init__(self, make, model, year):\n",
    "        self.make = make\n",
    "        self.model = model\n",
    "        self.year = year\n",
    "\n",
    "    def start_engine(self):\n",
    "        return \"starting engine....\"\n",
    "\n",
    "\n",
    "class Car(Vehicle):\n",
    "    def start_engine(self):\n",
    "        return \"engine is cooking baby!\"\n",
    "\n",
    "class Motorbike(Vehicle):\n",
    "    def start_engine(self):\n",
    "        return \"IT ROARS!\""
   ]
  },
  {
   "cell_type": "code",
   "execution_count": 2,
   "id": "e94cf59b-327f-41d5-878d-919a13a534df",
   "metadata": {},
   "outputs": [],
   "source": [
    "vehicles = [\n",
    "    Vehicle('Generic', 'Vehicle', 1995),\n",
    "    Car(\"Toyota\", \"Supra\", 2102),\n",
    "    Motorbike(\"Harley-Davidson\", \"Sportster\", 2020)\n",
    "]"
   ]
  },
  {
   "cell_type": "code",
   "execution_count": 3,
   "id": "193dc2ce-db25-468b-b441-b377cd230da9",
   "metadata": {},
   "outputs": [
    {
     "name": "stdout",
     "output_type": "stream",
     "text": [
      "starting engine....\n",
      "engine is cooking baby!\n",
      "IT ROARS!\n"
     ]
    }
   ],
   "source": [
    "for vehicle in vehicles:\n",
    "    print(vehicle.start_engine())"
   ]
  }
 ],
 "metadata": {
  "kernelspec": {
   "display_name": "Python 3 (ipykernel)",
   "language": "python",
   "name": "python3"
  },
  "language_info": {
   "codemirror_mode": {
    "name": "ipython",
    "version": 3
   },
   "file_extension": ".py",
   "mimetype": "text/x-python",
   "name": "python",
   "nbconvert_exporter": "python",
   "pygments_lexer": "ipython3",
   "version": "3.12.6"
  }
 },
 "nbformat": 4,
 "nbformat_minor": 5
}

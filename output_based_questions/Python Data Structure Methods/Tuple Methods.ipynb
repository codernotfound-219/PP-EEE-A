{
 "cells": [
  {
   "cell_type": "code",
   "execution_count": 4,
   "id": "fd86c06a-81f8-420e-8a41-1a549df1326b",
   "metadata": {},
   "outputs": [
    {
     "name": "stdout",
     "output_type": "stream",
     "text": [
      "First occurrence of 3 is at index:  3\n"
     ]
    }
   ],
   "source": [
    "# Creating tuples \n",
    "Tuple = (0, 1, 2, 3, 2, 1, 3, 2) \n",
    "\n",
    "# getting the index of 3 \n",
    "res = Tuple.index(3) \n",
    "print('First occurrence of 3 is at index: ', res) "
   ]
  },
  {
   "cell_type": "code",
   "execution_count": 5,
   "id": "6f44f443-8221-4b74-8497-bb9d2ed942bb",
   "metadata": {},
   "outputs": [
    {
     "name": "stdout",
     "output_type": "stream",
     "text": [
      "First occurence of 3 after index 3:  3\n"
     ]
    }
   ],
   "source": [
    "print('First occurence of 3 after index 3: ', Tuple.index(3, 3)) #Starts searching from index 3"
   ]
  },
  {
   "cell_type": "code",
   "execution_count": 16,
   "id": "fb5c3cfa-1603-476a-a622-6658510faa1b",
   "metadata": {},
   "outputs": [
    {
     "ename": "ValueError",
     "evalue": "tuple.index(x): x not in tuple",
     "output_type": "error",
     "traceback": [
      "\u001b[0;31m---------------------------------------------------------------------------\u001b[0m",
      "\u001b[0;31mValueError\u001b[0m                                Traceback (most recent call last)",
      "Cell \u001b[0;32mIn[16], line 1\u001b[0m\n\u001b[0;32m----> 1\u001b[0m \u001b[38;5;28mprint\u001b[39m(\u001b[38;5;124m'\u001b[39m\u001b[38;5;124mFirst occurence of 3 after index 4 and before index 6: \u001b[39m\u001b[38;5;124m'\u001b[39m, \u001b[43mTuple\u001b[49m\u001b[38;5;241;43m.\u001b[39;49m\u001b[43mindex\u001b[49m\u001b[43m(\u001b[49m\u001b[38;5;241;43m3\u001b[39;49m\u001b[43m,\u001b[49m\u001b[43m \u001b[49m\u001b[38;5;241;43m4\u001b[39;49m\u001b[43m,\u001b[49m\u001b[43m \u001b[49m\u001b[38;5;241;43m6\u001b[39;49m\u001b[43m)\u001b[49m)\n",
      "\u001b[0;31mValueError\u001b[0m: tuple.index(x): x not in tuple"
     ]
    }
   ],
   "source": [
    "print('First occurence of 3 after index 4 and before index 6: ', Tuple.index(3, 4, 6))"
   ]
  },
  {
   "cell_type": "code",
   "execution_count": 17,
   "id": "b673817f-ce44-4038-84ab-159e24c33c89",
   "metadata": {},
   "outputs": [
    {
     "name": "stdout",
     "output_type": "stream",
     "text": [
      "First occurence of 3 after index 4 and before index 7:  6\n"
     ]
    }
   ],
   "source": [
    "print('First occurence of 3 after index 4 and before index 7: ', Tuple.index(3, 4, 7))"
   ]
  },
  {
   "cell_type": "code",
   "execution_count": 18,
   "id": "fd7b2a3b-4e6b-49b0-bb9b-40100c47d672",
   "metadata": {},
   "outputs": [
    {
     "data": {
      "text/plain": [
       "3"
      ]
     },
     "execution_count": 18,
     "metadata": {},
     "output_type": "execute_result"
    }
   ],
   "source": [
    "Tuple.count(2)"
   ]
  }
 ],
 "metadata": {
  "kernelspec": {
   "display_name": "Python 3 (ipykernel)",
   "language": "python",
   "name": "python3"
  },
  "language_info": {
   "codemirror_mode": {
    "name": "ipython",
    "version": 3
   },
   "file_extension": ".py",
   "mimetype": "text/x-python",
   "name": "python",
   "nbconvert_exporter": "python",
   "pygments_lexer": "ipython3",
   "version": "3.12.6"
  }
 },
 "nbformat": 4,
 "nbformat_minor": 5
}

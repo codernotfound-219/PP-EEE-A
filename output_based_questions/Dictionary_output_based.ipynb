{
 "cells": [
  {
   "cell_type": "code",
   "execution_count": 3,
   "id": "35af3780-5f8d-4af8-aa9b-59ff5bbc7777",
   "metadata": {},
   "outputs": [
    {
     "name": "stdout",
     "output_type": "stream",
     "text": [
      "True\n"
     ]
    }
   ],
   "source": [
    "dictionary = {\"geek\":10, \"for\":45, \"geeks\": 90, \"Name\": \"Ash\"}\n",
    "print(\"geek\" in dictionary)"
   ]
  },
  {
   "cell_type": "code",
   "execution_count": 4,
   "id": "2aabde5f-298a-4010-b9f7-c246d702591a",
   "metadata": {},
   "outputs": [
    {
     "name": "stdout",
     "output_type": "stream",
     "text": [
      "False\n"
     ]
    }
   ],
   "source": [
    "print(\"Ash\" in dictionary) # ONLY CHECKS KEYS"
   ]
  },
  {
   "cell_type": "code",
   "execution_count": 5,
   "id": "b277459b-d59d-4344-8ebd-5fbb04281a2c",
   "metadata": {},
   "outputs": [
    {
     "name": "stdout",
     "output_type": "stream",
     "text": [
      "4\n"
     ]
    }
   ],
   "source": [
    "a = {}\n",
    "a[1] = 1      # {1 : 1}\n",
    "a['1'] = 2    # {1 : 1, '1' : 2}\n",
    "a[1]= a[1]+1  # {1 : 2, '1' : 2}\n",
    "count = 0\n",
    "for i in a:\n",
    "    count += a[i]    # count is added by the values\n",
    "print(count)"
   ]
  },
  {
   "cell_type": "code",
   "execution_count": 7,
   "id": "c05c8f57-8d60-4af3-b127-74f72430cfe4",
   "metadata": {},
   "outputs": [
    {
     "name": "stdout",
     "output_type": "stream",
     "text": [
      "2\n"
     ]
    },
    {
     "data": {
      "text/plain": [
       "{3: 'C', 1: 'D'}"
      ]
     },
     "execution_count": 7,
     "metadata": {},
     "output_type": "execute_result"
    }
   ],
   "source": [
    "test = {1:'A', 2:'B', 3:'C'}\n",
    "del test[1]   # {1:'A'} -> deleted from memory\n",
    "test[1] = 'D' # {1:'D'} -> created             # current dictionary : {2 : 'B', 3 : 'C', 1 : 'D'}\n",
    "del test[2]  # {2:'B'} -> deleted from memory\n",
    "print(len(test))\n",
    "test"
   ]
  },
  {
   "cell_type": "code",
   "execution_count": null,
   "id": "0fd92c94-74d2-43e4-afba-4d5284981dfb",
   "metadata": {},
   "outputs": [],
   "source": []
  }
 ],
 "metadata": {
  "kernelspec": {
   "display_name": "Python 3 (ipykernel)",
   "language": "python",
   "name": "python3"
  },
  "language_info": {
   "codemirror_mode": {
    "name": "ipython",
    "version": 3
   },
   "file_extension": ".py",
   "mimetype": "text/x-python",
   "name": "python",
   "nbconvert_exporter": "python",
   "pygments_lexer": "ipython3",
   "version": "3.12.6"
  }
 },
 "nbformat": 4,
 "nbformat_minor": 5
}

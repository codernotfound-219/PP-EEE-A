{
 "cells": [
  {
   "cell_type": "code",
   "execution_count": 1,
   "id": "913d92c3-d03b-41a6-9f6a-f7b3e6838ecf",
   "metadata": {},
   "outputs": [],
   "source": [
    "# PARENT:\n",
    "class Animal:\n",
    "    def __init__(self, name, habitat):\n",
    "        self.name = name\n",
    "        self.habitat = habitat\n",
    "\n",
    "    def skin(self):\n",
    "        if (self.habitat.lower() == \"arctic\"):\n",
    "            return \"white\"\n",
    "        else:\n",
    "            return \"black\""
   ]
  },
  {
   "cell_type": "code",
   "execution_count": 2,
   "id": "2bfb693a-9103-41ec-83a7-17bc31ff485f",
   "metadata": {},
   "outputs": [],
   "source": [
    "# CHILD:\n",
    "class Dog(Animal):                # SYNTAX FOR INHERITANCE\n",
    "\n",
    "    # Via inheritance, all instance attributes are imported here as well.\n",
    "    # VISUALIZATION: just add the below code onto class Animal.\n",
    "    \n",
    "    def sound(self):\n",
    "        return f\"{self.name} barks.\""
   ]
  },
  {
   "cell_type": "code",
   "execution_count": 3,
   "id": "087b7cfe-86bc-4c12-99e6-39a645e7077f",
   "metadata": {},
   "outputs": [],
   "source": [
    "animal_arctic = Animal(\"Jaguar\", \"Arctic\")\n",
    "animal_equator = Animal(\"Elephant\", \"Equator\")\n",
    "\n",
    "doggy = Dog(\"Zeus\", \"Arctic\")"
   ]
  },
  {
   "cell_type": "code",
   "execution_count": 4,
   "id": "6d866676-4f32-4656-abe6-f2ab924dd7be",
   "metadata": {},
   "outputs": [
    {
     "name": "stdout",
     "output_type": "stream",
     "text": [
      "white\n",
      "black\n"
     ]
    }
   ],
   "source": [
    "print(animal_arctic.skin())\n",
    "print(animal_equator.skin())"
   ]
  },
  {
   "cell_type": "code",
   "execution_count": 5,
   "id": "bb162cbe-f5e5-4ef1-87b1-0c7264e094a7",
   "metadata": {},
   "outputs": [
    {
     "name": "stdout",
     "output_type": "stream",
     "text": [
      "Zeus barks.\n",
      "white\n"
     ]
    }
   ],
   "source": [
    "print(doggy.sound())\n",
    "print(doggy.skin())"
   ]
  },
  {
   "cell_type": "code",
   "execution_count": 6,
   "id": "01142651-70ed-461b-bb74-0f52f9fb9f1b",
   "metadata": {},
   "outputs": [],
   "source": [
    "class Human:\n",
    "    def __init__(self, name):\n",
    "        self.name = name\n",
    "        \n",
    "    def greet(self):\n",
    "        return f\"{self.name} is an idiot\"\n",
    "\n",
    "# MULTIPLE INHERITANCE\n",
    "class HomoSapiens(Animal, Human):\n",
    "    def result(self):\n",
    "        return f\"{self.name}, shit it works!\""
   ]
  },
  {
   "cell_type": "code",
   "execution_count": 7,
   "id": "95147dbb-23e4-4d00-aad7-6f146cadc081",
   "metadata": {},
   "outputs": [],
   "source": [
    "homo = HomoSapiens(\"Aswatt\", \"Oman\")"
   ]
  },
  {
   "cell_type": "code",
   "execution_count": 8,
   "id": "d8bdec33-b34c-4ae7-8618-98e15327047f",
   "metadata": {},
   "outputs": [
    {
     "data": {
      "text/plain": [
       "'Aswatt, shit it works!'"
      ]
     },
     "execution_count": 8,
     "metadata": {},
     "output_type": "execute_result"
    }
   ],
   "source": [
    "homo.result()"
   ]
  },
  {
   "cell_type": "code",
   "execution_count": 9,
   "id": "aabc985b-0630-426e-b0a8-55349491a8d3",
   "metadata": {},
   "outputs": [
    {
     "data": {
      "text/plain": [
       "'Aswatt is an idiot'"
      ]
     },
     "execution_count": 9,
     "metadata": {},
     "output_type": "execute_result"
    }
   ],
   "source": [
    "homo.greet()"
   ]
  },
  {
   "cell_type": "code",
   "execution_count": 10,
   "id": "6b59b53c-1d9e-4332-816b-912b43dcce97",
   "metadata": {},
   "outputs": [
    {
     "data": {
      "text/plain": [
       "'black'"
      ]
     },
     "execution_count": 10,
     "metadata": {},
     "output_type": "execute_result"
    }
   ],
   "source": [
    "homo.skin()"
   ]
  },
  {
   "cell_type": "code",
   "execution_count": 12,
   "id": "dabfdc53-6187-4a74-a517-0cf492e7cd49",
   "metadata": {},
   "outputs": [
    {
     "ename": "AttributeError",
     "evalue": "'HomoSapiens' object has no attribute 'sound'",
     "output_type": "error",
     "traceback": [
      "\u001b[0;31m---------------------------------------------------------------------------\u001b[0m",
      "\u001b[0;31mAttributeError\u001b[0m                            Traceback (most recent call last)",
      "Cell \u001b[0;32mIn[12], line 1\u001b[0m\n\u001b[0;32m----> 1\u001b[0m \u001b[43mhomo\u001b[49m\u001b[38;5;241;43m.\u001b[39;49m\u001b[43msound\u001b[49m()\n",
      "\u001b[0;31mAttributeError\u001b[0m: 'HomoSapiens' object has no attribute 'sound'"
     ]
    }
   ],
   "source": [
    "homo.sound()"
   ]
  }
 ],
 "metadata": {
  "kernelspec": {
   "display_name": "Python 3 (ipykernel)",
   "language": "python",
   "name": "python3"
  },
  "language_info": {
   "codemirror_mode": {
    "name": "ipython",
    "version": 3
   },
   "file_extension": ".py",
   "mimetype": "text/x-python",
   "name": "python",
   "nbconvert_exporter": "python",
   "pygments_lexer": "ipython3",
   "version": "3.12.6"
  }
 },
 "nbformat": 4,
 "nbformat_minor": 5
}

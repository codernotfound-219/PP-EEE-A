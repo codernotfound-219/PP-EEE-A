{
 "cells": [
  {
   "cell_type": "code",
   "execution_count": 1,
   "id": "c322f56e-4164-4925-bac3-a112e3d0c140",
   "metadata": {},
   "outputs": [
    {
     "name": "stdout",
     "output_type": "stream",
     "text": [
      "Ram\n",
      "None\n"
     ]
    }
   ],
   "source": [
    "d = {'Name': 'Ram', 'Age': '19', 'Country': 'India'}\n",
    "print(d.get('Name'))\n",
    "print(d.get('Gender'))"
   ]
  },
  {
   "cell_type": "code",
   "execution_count": 3,
   "id": "8bd7fa1b-0ba8-44ad-91f7-5e0ce8c46711",
   "metadata": {},
   "outputs": [
    {
     "name": "stdout",
     "output_type": "stream",
     "text": [
      "None\n"
     ]
    }
   ],
   "source": [
    "print(d.get('Ram'))"
   ]
  },
  {
   "cell_type": "code",
   "execution_count": 5,
   "id": "db8cad5c-7a67-47cf-aee8-73756ee6bd5d",
   "metadata": {},
   "outputs": [
    {
     "name": "stdout",
     "output_type": "stream",
     "text": [
      "None\n"
     ]
    }
   ],
   "source": [
    "print(d.get('Hello?'))"
   ]
  },
  {
   "cell_type": "code",
   "execution_count": 6,
   "id": "007282c3-7bf1-4844-9751-0d32ddd4fe91",
   "metadata": {},
   "outputs": [
    {
     "data": {
      "text/plain": [
       "{'Name': 'Ram', 'Age': '19', 'Country': 'India'}"
      ]
     },
     "execution_count": 6,
     "metadata": {},
     "output_type": "execute_result"
    }
   ],
   "source": [
    "d"
   ]
  },
  {
   "cell_type": "code",
   "execution_count": 7,
   "id": "918f202f-a9d5-4647-b22d-23a85c7bad2d",
   "metadata": {},
   "outputs": [
    {
     "name": "stdout",
     "output_type": "stream",
     "text": [
      "('Name', 'Ram')\n",
      "('Age', '19')\n",
      "('Country', 'India')\n"
     ]
    }
   ],
   "source": [
    "for item in d.items():\n",
    "    print(item)\n",
    "\n",
    "# A tuple is returned"
   ]
  },
  {
   "cell_type": "code",
   "execution_count": 8,
   "id": "1a2a0dee-154e-49f4-a281-c2ae6921962a",
   "metadata": {},
   "outputs": [
    {
     "name": "stdout",
     "output_type": "stream",
     "text": [
      "Name\n",
      "Age\n",
      "Country\n"
     ]
    }
   ],
   "source": [
    "for item in d.items():\n",
    "    print(item[0])"
   ]
  },
  {
   "cell_type": "code",
   "execution_count": 9,
   "id": "3ada83c9-b7c9-495f-892b-5c977c5f6fbb",
   "metadata": {},
   "outputs": [
    {
     "data": {
      "text/plain": [
       "dict_keys(['Name', 'Age', 'Country'])"
      ]
     },
     "execution_count": 9,
     "metadata": {},
     "output_type": "execute_result"
    }
   ],
   "source": [
    "d.keys()"
   ]
  },
  {
   "cell_type": "code",
   "execution_count": 10,
   "id": "194f9960-a543-46fe-989f-15c08555c14a",
   "metadata": {},
   "outputs": [
    {
     "data": {
      "text/plain": [
       "dict_values(['Ram', '19', 'India'])"
      ]
     },
     "execution_count": 10,
     "metadata": {},
     "output_type": "execute_result"
    }
   ],
   "source": [
    "d.values()"
   ]
  },
  {
   "cell_type": "code",
   "execution_count": 11,
   "id": "45a1a6df-2c33-4d6a-9067-9dfad1fc5fa1",
   "metadata": {},
   "outputs": [
    {
     "data": {
      "text/plain": [
       "{'Name': 'Ashwin', 'Age': 12, 'Country': 'India'}"
      ]
     },
     "execution_count": 11,
     "metadata": {},
     "output_type": "execute_result"
    }
   ],
   "source": [
    "dict_new = {'Name' : 'Ashwin', 'Age' : 12}\n",
    "d.update(dict_new)\n",
    "d"
   ]
  },
  {
   "cell_type": "code",
   "execution_count": 12,
   "id": "8047cb56-cfb9-4da8-a6c5-f975a17ff2c7",
   "metadata": {},
   "outputs": [
    {
     "data": {
      "text/plain": [
       "{'Name': 'Ashwin', 'Age': 12}"
      ]
     },
     "execution_count": 12,
     "metadata": {},
     "output_type": "execute_result"
    }
   ],
   "source": [
    "d.pop('Country')\n",
    "d"
   ]
  },
  {
   "cell_type": "code",
   "execution_count": 13,
   "id": "919ad4f3-7a5a-4bdb-9440-efb2bd23dd49",
   "metadata": {},
   "outputs": [
    {
     "data": {
      "text/plain": [
       "{'Name': 'Ashwin'}"
      ]
     },
     "execution_count": 13,
     "metadata": {},
     "output_type": "execute_result"
    }
   ],
   "source": [
    "d.popitem() # removes the last element\n",
    "d"
   ]
  },
  {
   "cell_type": "code",
   "execution_count": 14,
   "id": "2eaa5f63-dc92-4073-b33c-e8e4f6adc1a7",
   "metadata": {},
   "outputs": [
    {
     "data": {
      "text/plain": [
       "{'Student Name': ['Jarvis', 'F023', 'Apache Helicopter'],\n",
       " 'Roll no': ['Jarvis', 'F023', 'Apache Helicopter'],\n",
       " 'Gender': ['Jarvis', 'F023', 'Apache Helicopter']}"
      ]
     },
     "execution_count": 14,
     "metadata": {},
     "output_type": "execute_result"
    }
   ],
   "source": [
    "set_name = ['Student Name', 'Roll no', 'Gender']\n",
    "set_value = ['Jarvis', 'F023', 'Apache Helicopter']\n",
    "res_dict = dict.fromkeys(set_name, set_value)\n",
    "res_dict"
   ]
  },
  {
   "cell_type": "code",
   "execution_count": 17,
   "id": "3b5f202b-7c02-4a6d-b908-5dbf314bc525",
   "metadata": {},
   "outputs": [
    {
     "data": {
      "text/plain": [
       "({'Name': 'Ashwin'},\n",
       " {'Student Name': ['Jarvis', 'F023', 'Apache Helicopter'],\n",
       "  'Roll no': ['Jarvis', 'F023', 'Apache Helicopter'],\n",
       "  'Gender': ['Jarvis', 'F023', 'Apache Helicopter']})"
      ]
     },
     "execution_count": 17,
     "metadata": {},
     "output_type": "execute_result"
    }
   ],
   "source": [
    "d, res_dict"
   ]
  }
 ],
 "metadata": {
  "kernelspec": {
   "display_name": "Python 3 (ipykernel)",
   "language": "python",
   "name": "python3"
  },
  "language_info": {
   "codemirror_mode": {
    "name": "ipython",
    "version": 3
   },
   "file_extension": ".py",
   "mimetype": "text/x-python",
   "name": "python",
   "nbconvert_exporter": "python",
   "pygments_lexer": "ipython3",
   "version": "3.12.6"
  }
 },
 "nbformat": 4,
 "nbformat_minor": 5
}
